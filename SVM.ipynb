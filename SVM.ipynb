{
 "cells": [
  {
   "cell_type": "code",
   "execution_count": 30,
   "metadata": {},
   "outputs": [],
   "source": [
    "import os\n",
    "import pickle\n",
    "import matplotlib as mpl\n",
    "import matplotlib.pyplot as plt\n",
    "from IPython.display import display\n",
    "%matplotlib inline\n",
    "import pandas as pd\n",
    "import numpy as np\n",
    "from sklearn.model_selection import train_test_split\n",
    "from sklearn.metrics import classification_report, confusion_matrix , accuracy_score\n",
    "from sklearn import svm\n",
    "from PIL import Image\n",
    "\n",
    "from sklearn.model_selection import GridSearchCV"
   ]
  },
  {
   "cell_type": "code",
   "execution_count": 31,
   "metadata": {},
   "outputs": [],
   "source": [
    "path = '/Segmentation_samples'\n",
    "\n",
    "'''\n",
    "filepaths = [os.path.join(r,file) for r,d,f in os.walk(os.getcwd() + path) for file in f]\n",
    "filepaths = [x for x in filepaths if x.endswith(\".bmp\")]\n",
    "filepaths_2 = [os.path.join(r,file) for r,d,f in os.walk(os.getcwd() + path) for file in f]\n",
    "filepaths_2 = [x for x in filepaths_2 if x.endswith(\".png\")]\n",
    "'''\n",
    "\n",
    "filepaths = [os.path.join(r,file) for r,d,f in os.walk(os.getcwd() + path) for file in f]\n",
    "filepaths = [x for x in filepaths if x.endswith(\".PNG\")]\n"
   ]
  },
  {
   "cell_type": "code",
   "execution_count": 32,
   "metadata": {},
   "outputs": [
    {
     "output_type": "stream",
     "name": "stdout",
     "text": [
      "[0.42352941 0.09411765 0.57254902]\n"
     ]
    }
   ],
   "source": [
    "imglist = [ ]\n",
    "imgalgo = [ ]\n",
    "Labels = [ ]\n",
    "\n",
    "numberOfLabel = 0\n",
    "for i in filepaths:\n",
    "    img = Image.open(i)\n",
    "    newsize = (96, 96)\n",
    "    img = img.resize(newsize)\n",
    "\n",
    "    img = np.asarray(img)\n",
    "    img = np.delete(img,3,axis=2)\n",
    "    img = img / 255\n",
    "    for i in range(newsize[0]):\n",
    "        for j in range(newsize[1]):\n",
    "            imglist.append(img[i,j])\n",
    "            Labels.append(numberOfLabel)\n",
    "    numberOfLabel += 1\n",
    "    if numberOfLabel == 3:\n",
    "        numberOfLabel = 0\n",
    "\n",
    "imglist=np.asarray(imglist)\n",
    "print(imglist[0])"
   ]
  },
  {
   "cell_type": "code",
   "execution_count": 33,
   "metadata": {},
   "outputs": [
    {
     "output_type": "stream",
     "name": "stdout",
     "text": [
      "(138240,)\n[[    0 46080]\n [    1 46080]\n [    2 46080]]\n"
     ]
    }
   ],
   "source": [
    "Labels = np.asarray(Labels)\n",
    "print(Labels.shape)\n",
    "(unique, counts) = np.unique(Labels, return_counts=True)\n",
    "frequencies = np.asarray((unique, counts)).T\n",
    "print(frequencies)"
   ]
  },
  {
   "cell_type": "code",
   "execution_count": 34,
   "metadata": {},
   "outputs": [],
   "source": [
    "X = imglist\n",
    "X = np.asarray(X)\n",
    "Y = Labels"
   ]
  },
  {
   "cell_type": "code",
   "execution_count": 129,
   "metadata": {},
   "outputs": [],
   "source": []
  },
  {
   "cell_type": "code",
   "execution_count": 35,
   "metadata": {},
   "outputs": [],
   "source": [
    "X_train = X\n",
    "y_train = Y"
   ]
  },
  {
   "cell_type": "code",
   "execution_count": 36,
   "metadata": {},
   "outputs": [],
   "source": [
    "clf = svm.SVC( C=100 , kernel='linear' , gamma=\"scale\" )\n",
    "#clf.fit(X_train,y_train)\n",
    "#pickle.dump(clf, open('savedmodel.sav', 'wb'))\n",
    "#loaded_model = pickle.load(open('savedmodel.sav', 'rb')) "
   ]
  },
  {
   "cell_type": "code",
   "execution_count": 37,
   "metadata": {},
   "outputs": [],
   "source": [
    "# PLACEHOLDER MEAN COLORING\n",
    "\n",
    "i = filepaths[0] # Inner\n",
    "img_1 = Image.open(i)\n",
    "newsize = (96, 96)\n",
    "img_1 = img_1.resize(newsize)\n",
    "img_1 = np.asarray(img_1)\n",
    "img_1 = np.delete(img_1,3,axis=2)\n",
    "\n",
    "i = filepaths[1] # Outer\n",
    "img_2 = Image.open(i)\n",
    "newsize = (96, 96)\n",
    "img_2 = img_2.resize(newsize)\n",
    "img_2 = np.asarray(img_2)\n",
    "img_2 = np.delete(img_2,3,axis=2)\n",
    "\n",
    "i = filepaths[2] #BACKGROUND\n",
    "img_3 = Image.open(i)\n",
    "newsize = (96, 96)\n",
    "img_3 = img_3.resize(newsize)\n",
    "img_3 = np.asarray(img_3)\n",
    "img_3 = np.delete(img_3,3,axis=2)"
   ]
  },
  {
   "cell_type": "code",
   "execution_count": 38,
   "metadata": {},
   "outputs": [],
   "source": [
    "# Coloring preparation\n",
    "img_inner_mean = np.mean(img_1, axis=(0, 1))\n",
    "img_outer_mean = np.mean(img_2, axis=(0, 1))\n",
    "img_background_mean = np.mean(img_3, axis=(0, 1))"
   ]
  },
  {
   "cell_type": "code",
   "execution_count": 39,
   "metadata": {},
   "outputs": [
    {
     "output_type": "stream",
     "name": "stdout",
     "text": [
      "[253.00488281 226.98665365 200.55913628]\n[215.29394531 186.60980903 193.08962674]\n[253.00488281 226.98665365 200.55913628]\n"
     ]
    }
   ],
   "source": [
    "print(img_background_mean)\n",
    "print(img_outer_mean)\n",
    "print(img_background_mean)\n"
   ]
  },
  {
   "cell_type": "code",
   "execution_count": 40,
   "metadata": {},
   "outputs": [
    {
     "output_type": "error",
     "ename": "NameError",
     "evalue": "name 'y_pred' is not defined",
     "traceback": [
      "\u001b[1;31m---------------------------------------------------------------------------\u001b[0m",
      "\u001b[1;31mNameError\u001b[0m                                 Traceback (most recent call last)",
      "\u001b[1;32m<ipython-input-40-b89e717362b6>\u001b[0m in \u001b[0;36m<module>\u001b[1;34m\u001b[0m\n\u001b[0;32m      7\u001b[0m     \u001b[1;32mfor\u001b[0m \u001b[0mj\u001b[0m \u001b[1;32min\u001b[0m \u001b[0mrange\u001b[0m\u001b[1;33m(\u001b[0m\u001b[0mnewsize\u001b[0m\u001b[1;33m[\u001b[0m\u001b[1;36m1\u001b[0m\u001b[1;33m]\u001b[0m\u001b[1;33m)\u001b[0m\u001b[1;33m:\u001b[0m\u001b[1;33m\u001b[0m\u001b[1;33m\u001b[0m\u001b[0m\n\u001b[0;32m      8\u001b[0m \u001b[1;33m\u001b[0m\u001b[0m\n\u001b[1;32m----> 9\u001b[1;33m         \u001b[1;32mif\u001b[0m \u001b[0my_pred\u001b[0m\u001b[1;33m[\u001b[0m\u001b[0mlabelcount\u001b[0m\u001b[1;33m]\u001b[0m \u001b[1;33m==\u001b[0m \u001b[1;36m0\u001b[0m\u001b[1;33m:\u001b[0m\u001b[1;33m\u001b[0m\u001b[1;33m\u001b[0m\u001b[0m\n\u001b[0m\u001b[0;32m     10\u001b[0m             \u001b[0mnewImage\u001b[0m\u001b[1;33m[\u001b[0m\u001b[0mi\u001b[0m\u001b[1;33m,\u001b[0m\u001b[0mj\u001b[0m\u001b[1;33m]\u001b[0m \u001b[1;33m=\u001b[0m \u001b[0mimg_inner_mean\u001b[0m\u001b[1;33m\u001b[0m\u001b[1;33m\u001b[0m\u001b[0m\n\u001b[0;32m     11\u001b[0m         \u001b[1;32melif\u001b[0m \u001b[0my_pred\u001b[0m\u001b[1;33m[\u001b[0m\u001b[0mlabelcount\u001b[0m\u001b[1;33m]\u001b[0m \u001b[1;33m==\u001b[0m \u001b[1;36m1\u001b[0m\u001b[1;33m:\u001b[0m\u001b[1;33m\u001b[0m\u001b[1;33m\u001b[0m\u001b[0m\n",
      "\u001b[1;31mNameError\u001b[0m: name 'y_pred' is not defined"
     ]
    }
   ],
   "source": [
    "labelcount = 0\n",
    "w, h = 96, 96\n",
    "newImage = np.zeros((h, w, 3), dtype=np.uint8)\n",
    "\n",
    "for i in range(newsize[0]):\n",
    "    \n",
    "    for j in range(newsize[1]):\n",
    "        \n",
    "        if y_pred[labelcount] == 0:\n",
    "            newImage[i,j] = img_inner_mean\n",
    "        elif y_pred[labelcount] == 1:\n",
    "            newImage[i,j] = img_outer_mean\n",
    "        else:\n",
    "            newImage[i,j] = img_background_mean\n",
    "            \n",
    "        labelcount += 1\n",
    "        \n",
    "newImageConverted = Image.fromarray(newImage)\n",
    "plt.imshow(newImageConverted)\n",
    "plt.show()"
   ]
  },
  {
   "cell_type": "code",
   "execution_count": null,
   "metadata": {},
   "outputs": [],
   "source": []
  },
  {
   "cell_type": "code",
   "execution_count": null,
   "metadata": {},
   "outputs": [],
   "source": []
  },
  {
   "cell_type": "code",
   "execution_count": null,
   "metadata": {},
   "outputs": [],
   "source": []
  }
 ],
 "metadata": {
  "kernelspec": {
   "name": "python383jvsc74a57bd0b3ba2566441a7c06988d0923437866b63cedc61552a5af99d1f4fb67d367b25f",
   "display_name": "Python 3.8.3 64-bit (conda)"
  },
  "language_info": {
   "codemirror_mode": {
    "name": "ipython",
    "version": 3
   },
   "file_extension": ".py",
   "mimetype": "text/x-python",
   "name": "python",
   "nbconvert_exporter": "python",
   "pygments_lexer": "ipython3",
   "version": "3.8.3"
  }
 },
 "nbformat": 4,
 "nbformat_minor": 4
}